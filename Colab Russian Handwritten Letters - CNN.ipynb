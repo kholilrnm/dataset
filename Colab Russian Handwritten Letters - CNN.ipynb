{
 "cells": [
  {
   "cell_type": "markdown",
   "metadata": {
    "id": "Nx1jO8A1sSDl"
   },
   "source": [
    "## 1. Export Dataset Zip"
   ]
  },
  {
   "cell_type": "markdown",
   "metadata": {
    "id": "_AgoXlpbsa9F"
   },
   "source": [
    "## 2. Pengecekan GPU dan TensorFlow"
   ]
  },
  {
   "cell_type": "markdown",
   "metadata": {
    "id": "dqa9y5ZQ33q9"
   },
   "source": [
    "## 3. Import Library"
   ]
  },
  {
   "cell_type": "markdown",
   "metadata": {
    "id": "DfaRZHhgskcm"
   },
   "source": [
    "## 4. Pra Pelatihan"
   ]
  },
  {
   "cell_type": "code",
   "execution_count": null,
   "metadata": {
    "id": "PLy3pthUS0D2"
   },
   "outputs": [],
   "source": [
    "# Membuat nama kelas berdasarkan urutan folder\n",
    "class_names = [ 'ah', 'beh', 'cheh', 'deh', 'ee', 'ee kratkaye', 'ef', 'eh', 'el', 'em', 'en', \n",
    "                'er', 'es', 'ghe', 'ka', 'kha', 'miakhkiy znak', 'o', 'oo', 'pe', 'scha', 'sha',\n",
    "                'te', 'tse', 'tviordiy znak', 've', 'y', 'ya', 'ye','yo', 'yooo', 'ze', 'zhe']"
   ]
  },
  {
   "cell_type": "markdown",
   "metadata": {},
   "source": [
    "## 5. Arsitektur CNN"
   ]
  },
  {
   "cell_type": "code",
   "execution_count": null,
   "metadata": {
    "id": "MLZKVtE0dSfk"
   },
   "outputs": [],
   "source": [
    "# Membuat arsitektur CNN\n",
    "model = models.Sequential()\n",
    "model.add(layers.Conv2D(32, (3, 3), padding='valid', activation='relu', input_shape=(150, 150, 3)))\n",
    "model.add(layers.MaxPooling2D((2, 2), strides=(2,2), padding='valid'))\n",
    "model.add(layers.Conv2D(64, (3, 3), padding='valid', activation='relu'))\n",
    "model.add(layers.MaxPooling2D((2, 2), strides=(2,2), padding='valid'))\n",
    "model.add(layers.Conv2D(128, (3, 3), padding='valid', activation='relu'))\n",
    "model.add(layers.MaxPooling2D((2, 2), strides=(2,2), padding='valid'))\n",
    "model.add(layers.Conv2D(256, (3, 3), padding='valid', activation='relu'))\n",
    "model.add(layers.MaxPooling2D((2, 2), strides=(2,2), padding='valid'))\n",
    "model.add(layers.Flatten())\n",
    "model.add(layers.Dense(512, activation='relu'))\n",
    "model.add(layers.Dense(33, activation='softmax'))"
   ]
  },
  {
   "cell_type": "code",
   "execution_count": null,
   "metadata": {
    "colab": {
     "base_uri": "https://localhost:8080/"
    },
    "id": "K7AboaY9gIFt",
    "outputId": "95daa1f0-72d6-4796-b304-ee92c4d943d7"
   },
   "outputs": [
    {
     "name": "stdout",
     "output_type": "stream",
     "text": [
      "Model: \"sequential\"\n",
      "_________________________________________________________________\n",
      "Layer (type)                 Output Shape              Param #   \n",
      "=================================================================\n",
      "conv2d (Conv2D)              (None, 148, 148, 32)      896       \n",
      "_________________________________________________________________\n",
      "max_pooling2d (MaxPooling2D) (None, 74, 74, 32)        0         \n",
      "_________________________________________________________________\n",
      "conv2d_1 (Conv2D)            (None, 72, 72, 64)        18496     \n",
      "_________________________________________________________________\n",
      "max_pooling2d_1 (MaxPooling2 (None, 36, 36, 64)        0         \n",
      "_________________________________________________________________\n",
      "conv2d_2 (Conv2D)            (None, 34, 34, 128)       73856     \n",
      "_________________________________________________________________\n",
      "max_pooling2d_2 (MaxPooling2 (None, 17, 17, 128)       0         \n",
      "_________________________________________________________________\n",
      "conv2d_3 (Conv2D)            (None, 15, 15, 256)       295168    \n",
      "_________________________________________________________________\n",
      "max_pooling2d_3 (MaxPooling2 (None, 7, 7, 256)         0         \n",
      "_________________________________________________________________\n",
      "flatten (Flatten)            (None, 12544)             0         \n",
      "_________________________________________________________________\n",
      "dense (Dense)                (None, 512)               6423040   \n",
      "_________________________________________________________________\n",
      "dense_1 (Dense)              (None, 33)                16929     \n",
      "=================================================================\n",
      "Total params: 6,828,385\n",
      "Trainable params: 6,828,385\n",
      "Non-trainable params: 0\n",
      "_________________________________________________________________\n"
     ]
    }
   ],
   "source": [
    "model.summary()"
   ]
  },
  {
   "cell_type": "markdown",
   "metadata": {
    "id": "iSE82WaNv2FE"
   },
   "source": [
    "## 6. Pra proses dan Augmentasi Data"
   ]
  },
  {
   "cell_type": "markdown",
   "metadata": {
    "id": "aXMozWU9xHXZ"
   },
   "source": [
    "## 7. Pelatihan"
   ]
  },
  {
   "cell_type": "code",
   "execution_count": null,
   "metadata": {
    "colab": {
     "base_uri": "https://localhost:8080/"
    },
    "id": "_Dz4bae5gIFw",
    "outputId": "81acb286-bf5b-490c-c3a2-458fdc53bf15"
   },
   "outputs": [
    {
     "name": "stdout",
     "output_type": "stream",
     "text": [
      "Epoch 1/130\n",
      "129/129 - 99s - loss: 3.4285 - accuracy: 0.0439 - val_loss: 3.5895 - val_accuracy: 0.0332\n",
      "Epoch 2/130\n",
      "129/129 - 68s - loss: 3.2684 - accuracy: 0.0760 - val_loss: 3.4300 - val_accuracy: 0.0724\n",
      "Epoch 3/130\n",
      "129/129 - 69s - loss: 3.0998 - accuracy: 0.1012 - val_loss: 3.3563 - val_accuracy: 0.0866\n",
      "Epoch 4/130\n",
      "129/129 - 68s - loss: 2.9652 - accuracy: 0.1311 - val_loss: 3.1447 - val_accuracy: 0.1347\n",
      "Epoch 5/130\n",
      "129/129 - 68s - loss: 2.8472 - accuracy: 0.1586 - val_loss: 3.0481 - val_accuracy: 0.1364\n",
      "Epoch 6/130\n",
      "129/129 - 68s - loss: 2.6640 - accuracy: 0.1978 - val_loss: 2.8629 - val_accuracy: 0.1702\n",
      "Epoch 7/130\n",
      "129/129 - 69s - loss: 2.5456 - accuracy: 0.2321 - val_loss: 2.8272 - val_accuracy: 0.1849\n",
      "Epoch 8/130\n",
      "129/129 - 68s - loss: 2.4621 - accuracy: 0.2512 - val_loss: 2.7688 - val_accuracy: 0.2017\n",
      "Epoch 9/130\n",
      "129/129 - 68s - loss: 2.3801 - accuracy: 0.2779 - val_loss: 2.6579 - val_accuracy: 0.2207\n",
      "Epoch 10/130\n",
      "129/129 - 68s - loss: 2.2687 - accuracy: 0.3103 - val_loss: 2.5887 - val_accuracy: 0.2528\n",
      "Epoch 11/130\n",
      "129/129 - 68s - loss: 2.2026 - accuracy: 0.3252 - val_loss: 2.5066 - val_accuracy: 0.2557\n",
      "Epoch 12/130\n",
      "129/129 - 69s - loss: 2.1627 - accuracy: 0.3370 - val_loss: 2.5016 - val_accuracy: 0.2688\n",
      "Epoch 13/130\n",
      "129/129 - 68s - loss: 2.0238 - accuracy: 0.3791 - val_loss: 2.3718 - val_accuracy: 0.3168\n",
      "Epoch 14/130\n",
      "129/129 - 68s - loss: 1.9258 - accuracy: 0.4020 - val_loss: 2.2366 - val_accuracy: 0.3381\n",
      "Epoch 15/130\n",
      "129/129 - 68s - loss: 1.8658 - accuracy: 0.4225 - val_loss: 2.1753 - val_accuracy: 0.3628\n",
      "Epoch 16/130\n",
      "129/129 - 68s - loss: 1.7872 - accuracy: 0.4517 - val_loss: 2.1097 - val_accuracy: 0.3773\n",
      "Epoch 17/130\n",
      "129/129 - 68s - loss: 1.7561 - accuracy: 0.4491 - val_loss: 2.0636 - val_accuracy: 0.3878\n",
      "Epoch 18/130\n",
      "129/129 - 68s - loss: 1.6544 - accuracy: 0.4877 - val_loss: 1.9361 - val_accuracy: 0.4196\n",
      "Epoch 19/130\n",
      "129/129 - 68s - loss: 1.6307 - accuracy: 0.4869 - val_loss: 1.9287 - val_accuracy: 0.4182\n",
      "Epoch 20/130\n",
      "129/129 - 68s - loss: 1.5541 - accuracy: 0.5110 - val_loss: 1.7228 - val_accuracy: 0.4798\n",
      "Epoch 21/130\n",
      "129/129 - 68s - loss: 1.5064 - accuracy: 0.5308 - val_loss: 1.6800 - val_accuracy: 0.4886\n",
      "Epoch 22/130\n",
      "129/129 - 68s - loss: 1.4400 - accuracy: 0.5465 - val_loss: 1.6941 - val_accuracy: 0.4906\n",
      "Epoch 23/130\n",
      "129/129 - 68s - loss: 1.4090 - accuracy: 0.5569 - val_loss: 1.5900 - val_accuracy: 0.5080\n",
      "Epoch 24/130\n",
      "129/129 - 68s - loss: 1.3417 - accuracy: 0.5828 - val_loss: 1.6038 - val_accuracy: 0.5145\n",
      "Epoch 25/130\n",
      "129/129 - 68s - loss: 1.3153 - accuracy: 0.5861 - val_loss: 1.4792 - val_accuracy: 0.5477\n",
      "Epoch 26/130\n",
      "129/129 - 68s - loss: 1.3101 - accuracy: 0.5937 - val_loss: 1.3822 - val_accuracy: 0.5852\n",
      "Epoch 27/130\n",
      "129/129 - 68s - loss: 1.2306 - accuracy: 0.6144 - val_loss: 1.3418 - val_accuracy: 0.5886\n",
      "Epoch 28/130\n",
      "129/129 - 68s - loss: 1.1996 - accuracy: 0.6182 - val_loss: 1.2986 - val_accuracy: 0.6023\n",
      "Epoch 29/130\n",
      "129/129 - 68s - loss: 1.1949 - accuracy: 0.6250 - val_loss: 1.3228 - val_accuracy: 0.5935\n",
      "Epoch 30/130\n",
      "129/129 - 68s - loss: 1.1778 - accuracy: 0.6305 - val_loss: 1.2103 - val_accuracy: 0.6318\n",
      "Epoch 31/130\n",
      "129/129 - 68s - loss: 1.1178 - accuracy: 0.6471 - val_loss: 1.2774 - val_accuracy: 0.6023\n",
      "Epoch 32/130\n",
      "129/129 - 68s - loss: 1.1011 - accuracy: 0.6516 - val_loss: 1.2218 - val_accuracy: 0.6315\n",
      "Epoch 33/130\n",
      "129/129 - 68s - loss: 1.0634 - accuracy: 0.6681 - val_loss: 1.1357 - val_accuracy: 0.6483\n",
      "Epoch 34/130\n",
      "129/129 - 68s - loss: 1.0790 - accuracy: 0.6590 - val_loss: 1.1774 - val_accuracy: 0.6256\n",
      "Epoch 35/130\n",
      "129/129 - 68s - loss: 1.0467 - accuracy: 0.6697 - val_loss: 1.0620 - val_accuracy: 0.6878\n",
      "Epoch 36/130\n",
      "129/129 - 68s - loss: 1.0340 - accuracy: 0.6758 - val_loss: 1.1498 - val_accuracy: 0.6449\n",
      "Epoch 37/130\n",
      "129/129 - 68s - loss: 0.9955 - accuracy: 0.6937 - val_loss: 1.0524 - val_accuracy: 0.6815\n",
      "Epoch 38/130\n",
      "129/129 - 68s - loss: 0.9515 - accuracy: 0.6992 - val_loss: 1.0471 - val_accuracy: 0.6756\n",
      "Epoch 39/130\n",
      "129/129 - 68s - loss: 0.9483 - accuracy: 0.7020 - val_loss: 1.0451 - val_accuracy: 0.6761\n",
      "Epoch 40/130\n",
      "129/129 - 69s - loss: 0.9617 - accuracy: 0.6967 - val_loss: 0.9782 - val_accuracy: 0.6960\n",
      "Epoch 41/130\n",
      "129/129 - 68s - loss: 0.9178 - accuracy: 0.7097 - val_loss: 0.9659 - val_accuracy: 0.6960\n",
      "Epoch 42/130\n",
      "129/129 - 68s - loss: 0.9392 - accuracy: 0.7059 - val_loss: 0.9315 - val_accuracy: 0.7173\n",
      "Epoch 43/130\n",
      "129/129 - 68s - loss: 0.9101 - accuracy: 0.7118 - val_loss: 0.9569 - val_accuracy: 0.7031\n",
      "Epoch 44/130\n",
      "129/129 - 68s - loss: 0.9084 - accuracy: 0.7125 - val_loss: 0.9688 - val_accuracy: 0.6875\n",
      "Epoch 45/130\n",
      "129/129 - 68s - loss: 0.8455 - accuracy: 0.7340 - val_loss: 0.9310 - val_accuracy: 0.7017\n",
      "Epoch 46/130\n",
      "129/129 - 68s - loss: 0.8601 - accuracy: 0.7278 - val_loss: 0.9989 - val_accuracy: 0.6972\n",
      "Epoch 47/130\n",
      "129/129 - 68s - loss: 0.9610 - accuracy: 0.7010 - val_loss: 0.8870 - val_accuracy: 0.7145\n",
      "Epoch 48/130\n",
      "129/129 - 68s - loss: 0.8540 - accuracy: 0.7321 - val_loss: 0.8107 - val_accuracy: 0.7511\n",
      "Epoch 49/130\n",
      "129/129 - 68s - loss: 0.8422 - accuracy: 0.7351 - val_loss: 0.8277 - val_accuracy: 0.7426\n",
      "Epoch 50/130\n",
      "129/129 - 68s - loss: 0.7951 - accuracy: 0.7525 - val_loss: 0.8190 - val_accuracy: 0.7463\n",
      "Epoch 51/130\n",
      "129/129 - 68s - loss: 0.8123 - accuracy: 0.7443 - val_loss: 0.7904 - val_accuracy: 0.7636\n",
      "Epoch 52/130\n",
      "129/129 - 68s - loss: 0.7780 - accuracy: 0.7538 - val_loss: 0.7939 - val_accuracy: 0.7523\n",
      "Epoch 53/130\n",
      "129/129 - 68s - loss: 0.7850 - accuracy: 0.7522 - val_loss: 0.7791 - val_accuracy: 0.7514\n",
      "Epoch 54/130\n",
      "129/129 - 68s - loss: 0.7696 - accuracy: 0.7551 - val_loss: 0.8205 - val_accuracy: 0.7452\n",
      "Epoch 55/130\n",
      "129/129 - 68s - loss: 0.7927 - accuracy: 0.7486 - val_loss: 0.8058 - val_accuracy: 0.7548\n",
      "Epoch 56/130\n",
      "129/129 - 67s - loss: 0.7377 - accuracy: 0.7641 - val_loss: 0.7967 - val_accuracy: 0.7437\n",
      "Epoch 57/130\n",
      "129/129 - 67s - loss: 0.7374 - accuracy: 0.7643 - val_loss: 0.7580 - val_accuracy: 0.7582\n",
      "Epoch 58/130\n",
      "129/129 - 68s - loss: 0.7321 - accuracy: 0.7676 - val_loss: 0.7285 - val_accuracy: 0.7744\n",
      "Epoch 59/130\n",
      "129/129 - 68s - loss: 0.7373 - accuracy: 0.7673 - val_loss: 0.6556 - val_accuracy: 0.7963\n",
      "Epoch 60/130\n",
      "129/129 - 67s - loss: 0.7111 - accuracy: 0.7758 - val_loss: 0.6777 - val_accuracy: 0.7849\n",
      "Epoch 61/130\n",
      "129/129 - 68s - loss: 0.8381 - accuracy: 0.7400 - val_loss: 0.7169 - val_accuracy: 0.7716\n",
      "Epoch 62/130\n",
      "129/129 - 68s - loss: 0.7097 - accuracy: 0.7760 - val_loss: 0.7058 - val_accuracy: 0.7878\n",
      "Epoch 63/130\n",
      "129/129 - 68s - loss: 0.6796 - accuracy: 0.7830 - val_loss: 0.6692 - val_accuracy: 0.7960\n",
      "Epoch 64/130\n",
      "129/129 - 68s - loss: 0.7021 - accuracy: 0.7747 - val_loss: 0.6540 - val_accuracy: 0.7932\n",
      "Epoch 65/130\n",
      "129/129 - 68s - loss: 0.6899 - accuracy: 0.7844 - val_loss: 0.5953 - val_accuracy: 0.8131\n",
      "Epoch 66/130\n",
      "129/129 - 67s - loss: 0.6573 - accuracy: 0.7903 - val_loss: 0.6397 - val_accuracy: 0.8051\n",
      "Epoch 67/130\n",
      "129/129 - 68s - loss: 0.6619 - accuracy: 0.7908 - val_loss: 0.6010 - val_accuracy: 0.8136\n",
      "Epoch 68/130\n",
      "129/129 - 68s - loss: 0.6583 - accuracy: 0.7904 - val_loss: 0.5801 - val_accuracy: 0.8159\n",
      "Epoch 69/130\n",
      "129/129 - 68s - loss: 0.6258 - accuracy: 0.7984 - val_loss: 0.6622 - val_accuracy: 0.7918\n",
      "Epoch 70/130\n",
      "129/129 - 68s - loss: 0.6833 - accuracy: 0.7842 - val_loss: 0.5615 - val_accuracy: 0.8207\n",
      "Epoch 71/130\n",
      "129/129 - 69s - loss: 0.6695 - accuracy: 0.7882 - val_loss: 0.6779 - val_accuracy: 0.7884\n",
      "Epoch 72/130\n",
      "129/129 - 68s - loss: 0.6133 - accuracy: 0.8067 - val_loss: 0.6509 - val_accuracy: 0.7872\n",
      "Epoch 73/130\n",
      "129/129 - 67s - loss: 0.6324 - accuracy: 0.8011 - val_loss: 0.6189 - val_accuracy: 0.7920\n",
      "Epoch 74/130\n",
      "129/129 - 68s - loss: 0.6314 - accuracy: 0.8000 - val_loss: 0.5282 - val_accuracy: 0.8347\n",
      "Epoch 75/130\n",
      "129/129 - 67s - loss: 0.6309 - accuracy: 0.7998 - val_loss: 0.5939 - val_accuracy: 0.8054\n",
      "Epoch 76/130\n",
      "129/129 - 68s - loss: 0.6127 - accuracy: 0.8009 - val_loss: 0.5789 - val_accuracy: 0.8233\n",
      "Epoch 77/130\n",
      "129/129 - 68s - loss: 0.6230 - accuracy: 0.7994 - val_loss: 0.5623 - val_accuracy: 0.8270\n",
      "Epoch 78/130\n",
      "129/129 - 68s - loss: 0.5998 - accuracy: 0.8078 - val_loss: 0.5150 - val_accuracy: 0.8324\n",
      "Epoch 79/130\n",
      "129/129 - 68s - loss: 0.5857 - accuracy: 0.8126 - val_loss: 0.5374 - val_accuracy: 0.8267\n",
      "Epoch 80/130\n",
      "129/129 - 68s - loss: 0.5781 - accuracy: 0.8126 - val_loss: 0.4838 - val_accuracy: 0.8446\n",
      "Epoch 81/130\n",
      "129/129 - 68s - loss: 0.5978 - accuracy: 0.8072 - val_loss: 0.6829 - val_accuracy: 0.7761\n",
      "Epoch 82/130\n",
      "129/129 - 67s - loss: 0.6179 - accuracy: 0.7994 - val_loss: 0.5497 - val_accuracy: 0.8318\n",
      "Epoch 83/130\n",
      "129/129 - 67s - loss: 0.5816 - accuracy: 0.8151 - val_loss: 0.5109 - val_accuracy: 0.8352\n",
      "Epoch 84/130\n",
      "129/129 - 67s - loss: 0.5670 - accuracy: 0.8152 - val_loss: 0.5238 - val_accuracy: 0.8313\n",
      "Epoch 85/130\n",
      "129/129 - 68s - loss: 0.5976 - accuracy: 0.8097 - val_loss: 0.5719 - val_accuracy: 0.8165\n",
      "Epoch 86/130\n",
      "129/129 - 68s - loss: 0.5646 - accuracy: 0.8184 - val_loss: 0.4667 - val_accuracy: 0.8531\n",
      "Epoch 87/130\n",
      "129/129 - 68s - loss: 0.5640 - accuracy: 0.8194 - val_loss: 0.5162 - val_accuracy: 0.8349\n",
      "Epoch 88/130\n",
      "129/129 - 67s - loss: 0.5487 - accuracy: 0.8247 - val_loss: 0.4640 - val_accuracy: 0.8571\n",
      "Epoch 89/130\n",
      "129/129 - 67s - loss: 0.5491 - accuracy: 0.8227 - val_loss: 0.4688 - val_accuracy: 0.8449\n",
      "Epoch 90/130\n",
      "129/129 - 68s - loss: 0.5805 - accuracy: 0.8156 - val_loss: 0.4833 - val_accuracy: 0.8435\n",
      "Epoch 91/130\n",
      "129/129 - 68s - loss: 0.5410 - accuracy: 0.8256 - val_loss: 0.5337 - val_accuracy: 0.8278\n",
      "Epoch 92/130\n",
      "129/129 - 68s - loss: 0.5185 - accuracy: 0.8345 - val_loss: 0.4605 - val_accuracy: 0.8489\n",
      "Epoch 93/130\n",
      "129/129 - 68s - loss: 0.5396 - accuracy: 0.8245 - val_loss: 0.4551 - val_accuracy: 0.8509\n",
      "Epoch 94/130\n",
      "129/129 - 68s - loss: 0.5153 - accuracy: 0.8355 - val_loss: 0.4690 - val_accuracy: 0.8463\n",
      "Epoch 95/130\n",
      "129/129 - 68s - loss: 0.5383 - accuracy: 0.8279 - val_loss: 0.4738 - val_accuracy: 0.8582\n",
      "Epoch 96/130\n",
      "129/129 - 68s - loss: 0.5560 - accuracy: 0.8218 - val_loss: 0.4793 - val_accuracy: 0.8415\n",
      "Epoch 97/130\n",
      "129/129 - 68s - loss: 0.5108 - accuracy: 0.8369 - val_loss: 0.4552 - val_accuracy: 0.8520\n",
      "Epoch 98/130\n",
      "129/129 - 68s - loss: 0.5315 - accuracy: 0.8286 - val_loss: 0.5532 - val_accuracy: 0.8193\n",
      "Epoch 99/130\n",
      "129/129 - 68s - loss: 0.5106 - accuracy: 0.8366 - val_loss: 0.4872 - val_accuracy: 0.8446\n",
      "Epoch 100/130\n",
      "129/129 - 68s - loss: 0.5123 - accuracy: 0.8365 - val_loss: 0.4259 - val_accuracy: 0.8605\n",
      "Epoch 101/130\n",
      "129/129 - 68s - loss: 0.4929 - accuracy: 0.8398 - val_loss: 0.4922 - val_accuracy: 0.8366\n",
      "Epoch 102/130\n",
      "129/129 - 68s - loss: 0.5031 - accuracy: 0.8400 - val_loss: 0.4637 - val_accuracy: 0.8562\n",
      "Epoch 103/130\n",
      "129/129 - 68s - loss: 0.4829 - accuracy: 0.8448 - val_loss: 0.4832 - val_accuracy: 0.8466\n",
      "Epoch 104/130\n",
      "129/129 - 68s - loss: 0.4807 - accuracy: 0.8466 - val_loss: 0.4056 - val_accuracy: 0.8733\n",
      "Epoch 105/130\n",
      "129/129 - 68s - loss: 0.5123 - accuracy: 0.8383 - val_loss: 0.4364 - val_accuracy: 0.8648\n",
      "Epoch 106/130\n",
      "129/129 - 68s - loss: 0.4888 - accuracy: 0.8452 - val_loss: 0.3977 - val_accuracy: 0.8739\n",
      "Epoch 107/130\n",
      "129/129 - 68s - loss: 0.4695 - accuracy: 0.8516 - val_loss: 0.4179 - val_accuracy: 0.8665\n",
      "Epoch 108/130\n",
      "129/129 - 68s - loss: 0.4896 - accuracy: 0.8467 - val_loss: 0.4730 - val_accuracy: 0.8446\n",
      "Epoch 109/130\n",
      "129/129 - 68s - loss: 0.4642 - accuracy: 0.8522 - val_loss: 0.4180 - val_accuracy: 0.8636\n",
      "Epoch 110/130\n",
      "129/129 - 67s - loss: 0.4708 - accuracy: 0.8493 - val_loss: 0.3795 - val_accuracy: 0.8821\n",
      "Epoch 111/130\n",
      "129/129 - 67s - loss: 0.4738 - accuracy: 0.8478 - val_loss: 0.4011 - val_accuracy: 0.8773\n",
      "Epoch 112/130\n",
      "129/129 - 68s - loss: 0.4583 - accuracy: 0.8498 - val_loss: 0.4145 - val_accuracy: 0.8702\n",
      "Epoch 113/130\n",
      "129/129 - 68s - loss: 0.4693 - accuracy: 0.8502 - val_loss: 0.3802 - val_accuracy: 0.8759\n",
      "Epoch 114/130\n",
      "129/129 - 67s - loss: 0.4847 - accuracy: 0.8423 - val_loss: 0.4060 - val_accuracy: 0.8673\n",
      "Epoch 115/130\n",
      "129/129 - 67s - loss: 0.4706 - accuracy: 0.8490 - val_loss: 0.3994 - val_accuracy: 0.8739\n",
      "Epoch 116/130\n",
      "129/129 - 67s - loss: 0.4557 - accuracy: 0.8540 - val_loss: 0.4696 - val_accuracy: 0.8565\n",
      "Epoch 117/130\n",
      "129/129 - 68s - loss: 0.4407 - accuracy: 0.8602 - val_loss: 0.3802 - val_accuracy: 0.8773\n",
      "Epoch 118/130\n",
      "129/129 - 67s - loss: 0.4567 - accuracy: 0.8535 - val_loss: 0.4056 - val_accuracy: 0.8702\n",
      "Epoch 119/130\n",
      "129/129 - 67s - loss: 0.4376 - accuracy: 0.8598 - val_loss: 0.3416 - val_accuracy: 0.8906\n",
      "Epoch 120/130\n",
      "129/129 - 68s - loss: 0.4795 - accuracy: 0.8428 - val_loss: 0.3759 - val_accuracy: 0.8855\n",
      "Epoch 121/130\n",
      "129/129 - 67s - loss: 0.4566 - accuracy: 0.8517 - val_loss: 0.3952 - val_accuracy: 0.8705\n",
      "Epoch 122/130\n",
      "129/129 - 68s - loss: 0.4271 - accuracy: 0.8616 - val_loss: 0.3262 - val_accuracy: 0.8949\n",
      "Epoch 123/130\n",
      "129/129 - 67s - loss: 0.4301 - accuracy: 0.8640 - val_loss: 0.3225 - val_accuracy: 0.8972\n",
      "Epoch 124/130\n",
      "129/129 - 67s - loss: 0.4386 - accuracy: 0.8594 - val_loss: 0.4550 - val_accuracy: 0.8486\n",
      "Epoch 125/130\n",
      "129/129 - 67s - loss: 0.4216 - accuracy: 0.8640 - val_loss: 0.3066 - val_accuracy: 0.9011\n",
      "Epoch 126/130\n",
      "129/129 - 67s - loss: 0.4207 - accuracy: 0.8660 - val_loss: 0.3638 - val_accuracy: 0.8875\n",
      "Epoch 127/130\n",
      "129/129 - 68s - loss: 0.4450 - accuracy: 0.8608 - val_loss: 0.3521 - val_accuracy: 0.8869\n",
      "Epoch 128/130\n",
      "129/129 - 68s - loss: 0.4598 - accuracy: 0.8509 - val_loss: 0.4226 - val_accuracy: 0.8662\n",
      "Epoch 129/130\n",
      "129/129 - 68s - loss: 0.4311 - accuracy: 0.8660 - val_loss: 0.3420 - val_accuracy: 0.8861\n",
      "Epoch 130/130\n",
      "129/129 - 68s - loss: 0.4128 - accuracy: 0.8637 - val_loss: 0.4322 - val_accuracy: 0.8645\n"
     ]
    }
   ],
   "source": [
    "model_save_callback = callbacks.ModelCheckpoint('/content/models/model_{val_accuracy:.3f}_{accuracy:.3f}.h5', save_best_only=False, save_weights_only=False, monitor='val_accuracy')\n",
    "\n",
    "model.compile(optimizer='adam',\n",
    "              loss='sparse_categorical_crossentropy',\n",
    "              metrics=['accuracy'])\n",
    "\n",
    "history = model.fit(train_generator,\n",
    "                     steps_per_epoch=train_generator.n // train_generator.batch_size,\n",
    "                     epochs=130, \n",
    "                     validation_data=validation_generator,\n",
    "                     validation_steps=validation_generator.n // validation_generator.batch_size,\n",
    "                     verbose=2,\n",
    "                     callbacks=[\n",
    "                         model_save_callback\n",
    "                     ]\n",
    "                   ) "
   ]
  },
  {
   "cell_type": "code",
   "execution_count": null,
   "metadata": {
    "id": "651IgjLyo-Jx"
   },
   "outputs": [],
   "source": [
    "import os, signal\n",
    "\n",
    "os.kill(     os.getpid() , \n",
    "         signal.SIGKILL\n",
    "       )"
   ]
  }
 ],
 "metadata": {
  "accelerator": "GPU",
  "colab": {
   "collapsed_sections": [],
   "name": "Skripsi_Colab_Fix_2(lordmywe).ipynb",
   "provenance": []
  },
  "kernelspec": {
   "display_name": "Python 3",
   "language": "python",
   "name": "python3"
  },
  "language_info": {
   "codemirror_mode": {
    "name": "ipython",
    "version": 3
   },
   "file_extension": ".py",
   "mimetype": "text/x-python",
   "name": "python",
   "nbconvert_exporter": "python",
   "pygments_lexer": "ipython3",
   "version": "3.8.5"
  }
 },
 "nbformat": 4,
 "nbformat_minor": 1
}
